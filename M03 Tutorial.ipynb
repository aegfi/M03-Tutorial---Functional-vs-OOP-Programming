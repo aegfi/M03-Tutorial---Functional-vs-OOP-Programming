{
 "cells": [
  {
   "cell_type": "code",
   "execution_count": 6,
   "id": "d8d26259",
   "metadata": {},
   "outputs": [
    {
     "name": "stdout",
     "output_type": "stream",
     "text": [
      "5\n",
      "02120\n",
      "02120\n"
     ]
    },
    {
     "ename": "IndexError",
     "evalue": "list index out of range",
     "output_type": "error",
     "traceback": [
      "\u001b[1;31m---------------------------------------------------------------------------\u001b[0m",
      "\u001b[1;31mIndexError\u001b[0m                                Traceback (most recent call last)",
      "Cell \u001b[1;32mIn[6], line 33\u001b[0m\n\u001b[0;32m     31\u001b[0m arr\u001b[38;5;241m=\u001b[39m[\u001b[38;5;28mint\u001b[39m(x) \u001b[38;5;28;01mfor\u001b[39;00m x \u001b[38;5;129;01min\u001b[39;00m \u001b[38;5;28minput\u001b[39m()\u001b[38;5;241m.\u001b[39mstrip()\u001b[38;5;241m.\u001b[39msplit()]\n\u001b[0;32m     32\u001b[0m ob\u001b[38;5;241m=\u001b[39mSolution()\n\u001b[1;32m---> 33\u001b[0m ob\u001b[38;5;241m.\u001b[39msort012(arr,n)\n\u001b[0;32m     34\u001b[0m \u001b[38;5;28;01mfor\u001b[39;00m i \u001b[38;5;129;01min\u001b[39;00m arr:\n\u001b[0;32m     35\u001b[0m     \u001b[38;5;28mprint\u001b[39m(i, end\u001b[38;5;241m=\u001b[39m\u001b[38;5;124m'\u001b[39m\u001b[38;5;124m \u001b[39m\u001b[38;5;124m'\u001b[39m)\n",
      "Cell \u001b[1;32mIn[6], line 18\u001b[0m, in \u001b[0;36mSolution.sort012\u001b[1;34m(self, arr, n)\u001b[0m\n\u001b[0;32m     16\u001b[0m     mid\u001b[38;5;241m+\u001b[39m\u001b[38;5;241m=\u001b[39m\u001b[38;5;241m1\u001b[39m\n\u001b[0;32m     17\u001b[0m \u001b[38;5;28;01melse\u001b[39;00m:\n\u001b[1;32m---> 18\u001b[0m     arr[mid], arr[high]\u001b[38;5;241m=\u001b[39marr[high], arr[mid]\n\u001b[0;32m     19\u001b[0m     high\u001b[38;5;241m-\u001b[39m\u001b[38;5;241m=\u001b[39m\u001b[38;5;241m1\u001b[39m\n",
      "\u001b[1;31mIndexError\u001b[0m: list index out of range"
     ]
    }
   ],
   "source": [
    "#User function Template for python3\n",
    "\n",
    "class Solution:\n",
    "    def sort012(self,arr,n):\n",
    "        # code here\n",
    "        low=0\n",
    "        high=n-1\n",
    "        mid=0\n",
    "        \n",
    "        while mid<=high:\n",
    "            if arr[mid]==0:\n",
    "                arr[mid], arr[low]=arr[low], arr[mid]\n",
    "                mid+=1\n",
    "                low+=1\n",
    "            elif arr[mid]==1:\n",
    "                mid+=1\n",
    "            else:\n",
    "                arr[mid], arr[high]=arr[high], arr[mid]\n",
    "                high-=1\n",
    "\n",
    "\n",
    "\n",
    "#{ \n",
    " # Driver Code Starts\n",
    "#Initial Template for Python 3\n",
    "\n",
    "if __name__ == '__main__':\n",
    "    t=int(input())\n",
    "    for _ in range(t):\n",
    "        n=int(input())\n",
    "        arr=[int(x) for x in input().strip().split()]\n",
    "        ob=Solution()\n",
    "        ob.sort012(arr,n)\n",
    "        for i in arr:\n",
    "            print(i, end=' ')\n",
    "        print()\n",
    "\n",
    "# } Driver Code Ends"
   ]
  },
  {
   "cell_type": "code",
   "execution_count": null,
   "id": "386f237d",
   "metadata": {},
   "outputs": [],
   "source": [
    "#User function template for Python\n",
    "\n",
    "class Solution:\t\n",
    "\tdef binarysearch(arr, l, r,x):\n",
    "\t\t# code here\n",
    "\t\tif r>=l:\n",
    "\t\t    mid=l+(r-l)//2\n",
    "\t\t    if arr[mid]==x:\n",
    "\t\t        return mid\n",
    "\t\t    elif arr[mid]>x:\n",
    "\t\t        return binarySearch(arr,l,mid-1,x)\n",
    "\t\t    else:\n",
    "\t\t        return binarySearch(arr,mid+1,r,x)\n",
    "\t    else:\n",
    "\t        return-1\n",
    "\n",
    "#{ \n",
    " # Driver Code Starts\n",
    "#Initial template for Python\n",
    "\n",
    "if __name__ == '__main__':\n",
    "    t=int(input())\n",
    "    for i in range(t):\n",
    "        n=int(input())\n",
    "        arr=list(map(int, input().strip().split(' ')))\n",
    "        k=int(input())\n",
    "        ob = Solution()\n",
    "        print (ob.binarysearch(arr, n, k))\n",
    "\n",
    "\n",
    "# } Driver Code Ends"
   ]
  }
 ],
 "metadata": {
  "kernelspec": {
   "display_name": "Python 3 (ipykernel)",
   "language": "python",
   "name": "python3"
  },
  "language_info": {
   "codemirror_mode": {
    "name": "ipython",
    "version": 3
   },
   "file_extension": ".py",
   "mimetype": "text/x-python",
   "name": "python",
   "nbconvert_exporter": "python",
   "pygments_lexer": "ipython3",
   "version": "3.11.5"
  }
 },
 "nbformat": 4,
 "nbformat_minor": 5
}
